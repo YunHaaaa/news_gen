{
  "cells": [
    {
      "cell_type": "code",
      "execution_count": null,
      "metadata": {
        "colab": {
          "base_uri": "https://localhost:8080/"
        },
        "id": "UjrybWuSd7Sk",
        "outputId": "42bec24b-9522-43df-f5fd-a46ef915cfac"
      },
      "outputs": [
        {
          "name": "stdout",
          "output_type": "stream",
          "text": [
            "Mounted at /content/drive\n"
          ]
        }
      ],
      "source": [
        "from google.colab import drive\n",
        "drive.mount('/content/drive')"
      ]
    },
    {
      "cell_type": "code",
      "execution_count": null,
      "metadata": {
        "colab": {
          "base_uri": "https://localhost:8080/"
        },
        "id": "zPSNqyvEeFPj",
        "outputId": "fd988650-e3cd-453e-97da-1181e53497f4"
      },
      "outputs": [
        {
          "name": "stdout",
          "output_type": "stream",
          "text": [
            "/content/drive/MyDrive/newsData\n"
          ]
        }
      ],
      "source": [
        "%cd /content/drive/MyDrive/newsData"
      ]
    },
    {
      "cell_type": "code",
      "execution_count": null,
      "metadata": {
        "id": "P92IxJM2fER7"
      },
      "outputs": [],
      "source": [
        "import pandas as pd"
      ]
    },
    {
      "cell_type": "code",
      "execution_count": null,
      "metadata": {
        "id": "AQWnUEuWfPWI"
      },
      "outputs": [],
      "source": [
        "import os\n",
        "import pandas as pd \n",
        "import numpy as np\n",
        "\n",
        "df = pd.read_csv('okt_data_sec.csv')"
      ]
    },
    {
      "cell_type": "code",
      "execution_count": null,
      "metadata": {
        "colab": {
          "base_uri": "https://localhost:8080/"
        },
        "id": "UaRT7BTzul8Y",
        "outputId": "0f33d763-09c2-4df0-8e52-1565adf7c732"
      },
      "outputs": [
        {
          "name": "stdout",
          "output_type": "stream",
          "text": [
            "Looking in indexes: https://pypi.org/simple, https://us-python.pkg.dev/colab-wheels/public/simple/\n",
            "Collecting gensim==4.1.2\n",
            "  Downloading gensim-4.1.2-cp39-cp39-manylinux_2_12_x86_64.manylinux2010_x86_64.whl (24.0 MB)\n",
            "\u001b[2K     \u001b[90m━━━━━━━━━━━━━━━━━━━━━━━━━━━━━━━━━━━━━━━\u001b[0m \u001b[32m24.0/24.0 MB\u001b[0m \u001b[31m843.5 kB/s\u001b[0m eta \u001b[36m0:00:00\u001b[0m\n",
            "\u001b[?25hRequirement already satisfied: numpy>=1.17.0 in /usr/local/lib/python3.9/dist-packages (from gensim==4.1.2) (1.22.4)\n",
            "Requirement already satisfied: smart-open>=1.8.1 in /usr/local/lib/python3.9/dist-packages (from gensim==4.1.2) (6.3.0)\n",
            "Requirement already satisfied: scipy>=0.18.1 in /usr/local/lib/python3.9/dist-packages (from gensim==4.1.2) (1.10.1)\n",
            "Installing collected packages: gensim\n",
            "  Attempting uninstall: gensim\n",
            "    Found existing installation: gensim 4.3.1\n",
            "    Uninstalling gensim-4.3.1:\n",
            "      Successfully uninstalled gensim-4.3.1\n",
            "Successfully installed gensim-4.1.2\n"
          ]
        }
      ],
      "source": [
        "# https://wikidocs.net/22660\n",
        "# 원-핫 벡터는 표현하고자 하는 단어의 인덱스의 값만 1, 나머지 인덱스에는 전부 0으로 표현 \n",
        "# = 각 단어 벡터간 유의미한 유사성을 표현할 수 없다는 단점\n",
        "# 대안으로 단어의 의미를 다차원 공간에 벡터화하는 방법 : 분산 표현(distributed representation)\n",
        "# 분산 표현을 이용하여 단어 간 의미적 유사성을 벡터화하는 작업을 워드 임베딩(embedding)\n",
        "!pip install --upgrade gensim==4.1.2\n",
        "import matplotlib.pyplot as plt\n",
        "\n",
        "# df.isnull().values.any()"
      ]
    },
    {
      "cell_type": "code",
      "execution_count": null,
      "metadata": {
        "colab": {
          "base_uri": "https://localhost:8080/",
          "height": 423
        },
        "id": "6tcGGniDalRq",
        "outputId": "2a5a0495-6345-4fa1-affb-bacb0dfbcd71"
      },
      "outputs": [
        {
          "data": {
            "text/html": [
              "\n",
              "  <div id=\"df-795fede4-03f1-40da-a1d9-c88bd6f099c3\">\n",
              "    <div class=\"colab-df-container\">\n",
              "      <div>\n",
              "<style scoped>\n",
              "    .dataframe tbody tr th:only-of-type {\n",
              "        vertical-align: middle;\n",
              "    }\n",
              "\n",
              "    .dataframe tbody tr th {\n",
              "        vertical-align: top;\n",
              "    }\n",
              "\n",
              "    .dataframe thead th {\n",
              "        text-align: right;\n",
              "    }\n",
              "</style>\n",
              "<table border=\"1\" class=\"dataframe\">\n",
              "  <thead>\n",
              "    <tr style=\"text-align: right;\">\n",
              "      <th></th>\n",
              "      <th>content</th>\n",
              "    </tr>\n",
              "  </thead>\n",
              "  <tbody>\n",
              "    <tr>\n",
              "      <th>0</th>\n",
              "      <td>['태양광', '충전', '되는', '아이폰', '테슬라']</td>\n",
              "    </tr>\n",
              "    <tr>\n",
              "      <th>1</th>\n",
              "      <td>['지디', '코리아', '이정현', '기자', '도널드', '트럼프', '미국',...</td>\n",
              "    </tr>\n",
              "    <tr>\n",
              "      <th>2</th>\n",
              "      <td>['업체', '주로', '아이폰', '애플', '워치', '제품', '장식', '개...</td>\n",
              "    </tr>\n",
              "    <tr>\n",
              "      <th>3</th>\n",
              "      <td>['아이폰', '이름', '아이폰', '테슬라']</td>\n",
              "    </tr>\n",
              "    <tr>\n",
              "      <th>4</th>\n",
              "      <td>['제품', '태양', '전지', '패널', '있어', '스마트폰', '뒤집어', ...</td>\n",
              "    </tr>\n",
              "    <tr>\n",
              "      <th>...</th>\n",
              "      <td>...</td>\n",
              "    </tr>\n",
              "    <tr>\n",
              "      <th>30231</th>\n",
              "      <td>['비해']</td>\n",
              "    </tr>\n",
              "    <tr>\n",
              "      <th>30232</th>\n",
              "      <td>['지난', '대진', '침대', '매트리스', '연간', '피폭', '선량']</td>\n",
              "    </tr>\n",
              "    <tr>\n",
              "      <th>30233</th>\n",
              "      <td>['지속', '가능한', '패션', '오랫동안', '지적']</td>\n",
              "    </tr>\n",
              "    <tr>\n",
              "      <th>30234</th>\n",
              "      <td>['넘게', '클과', '만난', '적도', '없는', '알려졌다']</td>\n",
              "    </tr>\n",
              "    <tr>\n",
              "      <th>30235</th>\n",
              "      <td>['부남', '강원랜드', '채용', '비리', '수사', '단장', '연합뉴스',...</td>\n",
              "    </tr>\n",
              "  </tbody>\n",
              "</table>\n",
              "<p>30236 rows × 1 columns</p>\n",
              "</div>\n",
              "      <button class=\"colab-df-convert\" onclick=\"convertToInteractive('df-795fede4-03f1-40da-a1d9-c88bd6f099c3')\"\n",
              "              title=\"Convert this dataframe to an interactive table.\"\n",
              "              style=\"display:none;\">\n",
              "        \n",
              "  <svg xmlns=\"http://www.w3.org/2000/svg\" height=\"24px\"viewBox=\"0 0 24 24\"\n",
              "       width=\"24px\">\n",
              "    <path d=\"M0 0h24v24H0V0z\" fill=\"none\"/>\n",
              "    <path d=\"M18.56 5.44l.94 2.06.94-2.06 2.06-.94-2.06-.94-.94-2.06-.94 2.06-2.06.94zm-11 1L8.5 8.5l.94-2.06 2.06-.94-2.06-.94L8.5 2.5l-.94 2.06-2.06.94zm10 10l.94 2.06.94-2.06 2.06-.94-2.06-.94-.94-2.06-.94 2.06-2.06.94z\"/><path d=\"M17.41 7.96l-1.37-1.37c-.4-.4-.92-.59-1.43-.59-.52 0-1.04.2-1.43.59L10.3 9.45l-7.72 7.72c-.78.78-.78 2.05 0 2.83L4 21.41c.39.39.9.59 1.41.59.51 0 1.02-.2 1.41-.59l7.78-7.78 2.81-2.81c.8-.78.8-2.07 0-2.86zM5.41 20L4 18.59l7.72-7.72 1.47 1.35L5.41 20z\"/>\n",
              "  </svg>\n",
              "      </button>\n",
              "      \n",
              "  <style>\n",
              "    .colab-df-container {\n",
              "      display:flex;\n",
              "      flex-wrap:wrap;\n",
              "      gap: 12px;\n",
              "    }\n",
              "\n",
              "    .colab-df-convert {\n",
              "      background-color: #E8F0FE;\n",
              "      border: none;\n",
              "      border-radius: 50%;\n",
              "      cursor: pointer;\n",
              "      display: none;\n",
              "      fill: #1967D2;\n",
              "      height: 32px;\n",
              "      padding: 0 0 0 0;\n",
              "      width: 32px;\n",
              "    }\n",
              "\n",
              "    .colab-df-convert:hover {\n",
              "      background-color: #E2EBFA;\n",
              "      box-shadow: 0px 1px 2px rgba(60, 64, 67, 0.3), 0px 1px 3px 1px rgba(60, 64, 67, 0.15);\n",
              "      fill: #174EA6;\n",
              "    }\n",
              "\n",
              "    [theme=dark] .colab-df-convert {\n",
              "      background-color: #3B4455;\n",
              "      fill: #D2E3FC;\n",
              "    }\n",
              "\n",
              "    [theme=dark] .colab-df-convert:hover {\n",
              "      background-color: #434B5C;\n",
              "      box-shadow: 0px 1px 3px 1px rgba(0, 0, 0, 0.15);\n",
              "      filter: drop-shadow(0px 1px 2px rgba(0, 0, 0, 0.3));\n",
              "      fill: #FFFFFF;\n",
              "    }\n",
              "  </style>\n",
              "\n",
              "      <script>\n",
              "        const buttonEl =\n",
              "          document.querySelector('#df-795fede4-03f1-40da-a1d9-c88bd6f099c3 button.colab-df-convert');\n",
              "        buttonEl.style.display =\n",
              "          google.colab.kernel.accessAllowed ? 'block' : 'none';\n",
              "\n",
              "        async function convertToInteractive(key) {\n",
              "          const element = document.querySelector('#df-795fede4-03f1-40da-a1d9-c88bd6f099c3');\n",
              "          const dataTable =\n",
              "            await google.colab.kernel.invokeFunction('convertToInteractive',\n",
              "                                                     [key], {});\n",
              "          if (!dataTable) return;\n",
              "\n",
              "          const docLinkHtml = 'Like what you see? Visit the ' +\n",
              "            '<a target=\"_blank\" href=https://colab.research.google.com/notebooks/data_table.ipynb>data table notebook</a>'\n",
              "            + ' to learn more about interactive tables.';\n",
              "          element.innerHTML = '';\n",
              "          dataTable['output_type'] = 'display_data';\n",
              "          await google.colab.output.renderOutput(dataTable, element);\n",
              "          const docLink = document.createElement('div');\n",
              "          docLink.innerHTML = docLinkHtml;\n",
              "          element.appendChild(docLink);\n",
              "        }\n",
              "      </script>\n",
              "    </div>\n",
              "  </div>\n",
              "  "
            ],
            "text/plain": [
              "                                                 content\n",
              "0                      ['태양광', '충전', '되는', '아이폰', '테슬라']\n",
              "1      ['지디', '코리아', '이정현', '기자', '도널드', '트럼프', '미국',...\n",
              "2      ['업체', '주로', '아이폰', '애플', '워치', '제품', '장식', '개...\n",
              "3                            ['아이폰', '이름', '아이폰', '테슬라']\n",
              "4      ['제품', '태양', '전지', '패널', '있어', '스마트폰', '뒤집어', ...\n",
              "...                                                  ...\n",
              "30231                                             ['비해']\n",
              "30232       ['지난', '대진', '침대', '매트리스', '연간', '피폭', '선량']\n",
              "30233                  ['지속', '가능한', '패션', '오랫동안', '지적']\n",
              "30234             ['넘게', '클과', '만난', '적도', '없는', '알려졌다']\n",
              "30235  ['부남', '강원랜드', '채용', '비리', '수사', '단장', '연합뉴스',...\n",
              "\n",
              "[30236 rows x 1 columns]"
            ]
          },
          "execution_count": 7,
          "metadata": {},
          "output_type": "execute_result"
        }
      ],
      "source": [
        "df"
      ]
    },
    {
      "cell_type": "code",
      "execution_count": null,
      "metadata": {
        "id": "cKZOBhCgnlMN"
      },
      "outputs": [],
      "source": [
        "\n",
        "import random\n",
        "import re, string\n",
        "from collections import Counter\n",
        "from sklearn.feature_extraction.text import CountVectorizer, TfidfVectorizer\n",
        "from sklearn.cluster import DBSCAN, KMeans\n",
        "from sklearn.metrics import silhouette_score\n",
        "from sklearn.metrics.pairwise import cosine_similarity\n"
      ]
    },
    {
      "cell_type": "code",
      "execution_count": null,
      "metadata": {
        "colab": {
          "base_uri": "https://localhost:8080/",
          "height": 423
        },
        "id": "uCKMzjwor7y7",
        "outputId": "a1a7f022-f398-43e8-9acd-de123888154a"
      },
      "outputs": [
        {
          "data": {
            "text/html": [
              "\n",
              "  <div id=\"df-7497caca-16c2-42e4-8808-7df9429df96c\">\n",
              "    <div class=\"colab-df-container\">\n",
              "      <div>\n",
              "<style scoped>\n",
              "    .dataframe tbody tr th:only-of-type {\n",
              "        vertical-align: middle;\n",
              "    }\n",
              "\n",
              "    .dataframe tbody tr th {\n",
              "        vertical-align: top;\n",
              "    }\n",
              "\n",
              "    .dataframe thead th {\n",
              "        text-align: right;\n",
              "    }\n",
              "</style>\n",
              "<table border=\"1\" class=\"dataframe\">\n",
              "  <thead>\n",
              "    <tr style=\"text-align: right;\">\n",
              "      <th></th>\n",
              "      <th>content</th>\n",
              "    </tr>\n",
              "  </thead>\n",
              "  <tbody>\n",
              "    <tr>\n",
              "      <th>0</th>\n",
              "      <td>['태양광', '충전', '되는', '아이폰', '테슬라']</td>\n",
              "    </tr>\n",
              "    <tr>\n",
              "      <th>1</th>\n",
              "      <td>['지디', '코리아', '이정현', '기자', '도널드', '트럼프', '미국',...</td>\n",
              "    </tr>\n",
              "    <tr>\n",
              "      <th>2</th>\n",
              "      <td>['업체', '주로', '아이폰', '애플', '워치', '제품', '장식', '개...</td>\n",
              "    </tr>\n",
              "    <tr>\n",
              "      <th>3</th>\n",
              "      <td>['아이폰', '이름', '아이폰', '테슬라']</td>\n",
              "    </tr>\n",
              "    <tr>\n",
              "      <th>4</th>\n",
              "      <td>['제품', '태양', '전지', '패널', '있어', '스마트폰', '뒤집어', ...</td>\n",
              "    </tr>\n",
              "    <tr>\n",
              "      <th>...</th>\n",
              "      <td>...</td>\n",
              "    </tr>\n",
              "    <tr>\n",
              "      <th>30231</th>\n",
              "      <td>['비해']</td>\n",
              "    </tr>\n",
              "    <tr>\n",
              "      <th>30232</th>\n",
              "      <td>['지난', '대진', '침대', '매트리스', '연간', '피폭', '선량']</td>\n",
              "    </tr>\n",
              "    <tr>\n",
              "      <th>30233</th>\n",
              "      <td>['지속', '가능한', '패션', '오랫동안', '지적']</td>\n",
              "    </tr>\n",
              "    <tr>\n",
              "      <th>30234</th>\n",
              "      <td>['넘게', '클과', '만난', '적도', '없는', '알려졌다']</td>\n",
              "    </tr>\n",
              "    <tr>\n",
              "      <th>30235</th>\n",
              "      <td>['부남', '강원랜드', '채용', '비리', '수사', '단장', '연합뉴스',...</td>\n",
              "    </tr>\n",
              "  </tbody>\n",
              "</table>\n",
              "<p>30236 rows × 1 columns</p>\n",
              "</div>\n",
              "      <button class=\"colab-df-convert\" onclick=\"convertToInteractive('df-7497caca-16c2-42e4-8808-7df9429df96c')\"\n",
              "              title=\"Convert this dataframe to an interactive table.\"\n",
              "              style=\"display:none;\">\n",
              "        \n",
              "  <svg xmlns=\"http://www.w3.org/2000/svg\" height=\"24px\"viewBox=\"0 0 24 24\"\n",
              "       width=\"24px\">\n",
              "    <path d=\"M0 0h24v24H0V0z\" fill=\"none\"/>\n",
              "    <path d=\"M18.56 5.44l.94 2.06.94-2.06 2.06-.94-2.06-.94-.94-2.06-.94 2.06-2.06.94zm-11 1L8.5 8.5l.94-2.06 2.06-.94-2.06-.94L8.5 2.5l-.94 2.06-2.06.94zm10 10l.94 2.06.94-2.06 2.06-.94-2.06-.94-.94-2.06-.94 2.06-2.06.94z\"/><path d=\"M17.41 7.96l-1.37-1.37c-.4-.4-.92-.59-1.43-.59-.52 0-1.04.2-1.43.59L10.3 9.45l-7.72 7.72c-.78.78-.78 2.05 0 2.83L4 21.41c.39.39.9.59 1.41.59.51 0 1.02-.2 1.41-.59l7.78-7.78 2.81-2.81c.8-.78.8-2.07 0-2.86zM5.41 20L4 18.59l7.72-7.72 1.47 1.35L5.41 20z\"/>\n",
              "  </svg>\n",
              "      </button>\n",
              "      \n",
              "  <style>\n",
              "    .colab-df-container {\n",
              "      display:flex;\n",
              "      flex-wrap:wrap;\n",
              "      gap: 12px;\n",
              "    }\n",
              "\n",
              "    .colab-df-convert {\n",
              "      background-color: #E8F0FE;\n",
              "      border: none;\n",
              "      border-radius: 50%;\n",
              "      cursor: pointer;\n",
              "      display: none;\n",
              "      fill: #1967D2;\n",
              "      height: 32px;\n",
              "      padding: 0 0 0 0;\n",
              "      width: 32px;\n",
              "    }\n",
              "\n",
              "    .colab-df-convert:hover {\n",
              "      background-color: #E2EBFA;\n",
              "      box-shadow: 0px 1px 2px rgba(60, 64, 67, 0.3), 0px 1px 3px 1px rgba(60, 64, 67, 0.15);\n",
              "      fill: #174EA6;\n",
              "    }\n",
              "\n",
              "    [theme=dark] .colab-df-convert {\n",
              "      background-color: #3B4455;\n",
              "      fill: #D2E3FC;\n",
              "    }\n",
              "\n",
              "    [theme=dark] .colab-df-convert:hover {\n",
              "      background-color: #434B5C;\n",
              "      box-shadow: 0px 1px 3px 1px rgba(0, 0, 0, 0.15);\n",
              "      filter: drop-shadow(0px 1px 2px rgba(0, 0, 0, 0.3));\n",
              "      fill: #FFFFFF;\n",
              "    }\n",
              "  </style>\n",
              "\n",
              "      <script>\n",
              "        const buttonEl =\n",
              "          document.querySelector('#df-7497caca-16c2-42e4-8808-7df9429df96c button.colab-df-convert');\n",
              "        buttonEl.style.display =\n",
              "          google.colab.kernel.accessAllowed ? 'block' : 'none';\n",
              "\n",
              "        async function convertToInteractive(key) {\n",
              "          const element = document.querySelector('#df-7497caca-16c2-42e4-8808-7df9429df96c');\n",
              "          const dataTable =\n",
              "            await google.colab.kernel.invokeFunction('convertToInteractive',\n",
              "                                                     [key], {});\n",
              "          if (!dataTable) return;\n",
              "\n",
              "          const docLinkHtml = 'Like what you see? Visit the ' +\n",
              "            '<a target=\"_blank\" href=https://colab.research.google.com/notebooks/data_table.ipynb>data table notebook</a>'\n",
              "            + ' to learn more about interactive tables.';\n",
              "          element.innerHTML = '';\n",
              "          dataTable['output_type'] = 'display_data';\n",
              "          await google.colab.output.renderOutput(dataTable, element);\n",
              "          const docLink = document.createElement('div');\n",
              "          docLink.innerHTML = docLinkHtml;\n",
              "          element.appendChild(docLink);\n",
              "        }\n",
              "      </script>\n",
              "    </div>\n",
              "  </div>\n",
              "  "
            ],
            "text/plain": [
              "                                                 content\n",
              "0                      ['태양광', '충전', '되는', '아이폰', '테슬라']\n",
              "1      ['지디', '코리아', '이정현', '기자', '도널드', '트럼프', '미국',...\n",
              "2      ['업체', '주로', '아이폰', '애플', '워치', '제품', '장식', '개...\n",
              "3                            ['아이폰', '이름', '아이폰', '테슬라']\n",
              "4      ['제품', '태양', '전지', '패널', '있어', '스마트폰', '뒤집어', ...\n",
              "...                                                  ...\n",
              "30231                                             ['비해']\n",
              "30232       ['지난', '대진', '침대', '매트리스', '연간', '피폭', '선량']\n",
              "30233                  ['지속', '가능한', '패션', '오랫동안', '지적']\n",
              "30234             ['넘게', '클과', '만난', '적도', '없는', '알려졌다']\n",
              "30235  ['부남', '강원랜드', '채용', '비리', '수사', '단장', '연합뉴스',...\n",
              "\n",
              "[30236 rows x 1 columns]"
            ]
          },
          "execution_count": 9,
          "metadata": {},
          "output_type": "execute_result"
        }
      ],
      "source": [
        "df"
      ]
    },
    {
      "cell_type": "code",
      "execution_count": null,
      "metadata": {
        "colab": {
          "base_uri": "https://localhost:8080/"
        },
        "id": "igb6eoZfkqgN",
        "outputId": "bcb43d1d-eed1-4573-e0b7-d11c67f177d2"
      },
      "outputs": [
        {
          "data": {
            "text/plain": [
              "array([[0., 0., 0., ..., 0., 0., 0.],\n",
              "       [0., 0., 0., ..., 0., 0., 0.],\n",
              "       [0., 0., 0., ..., 0., 0., 0.],\n",
              "       ...,\n",
              "       [0., 0., 0., ..., 0., 0., 0.],\n",
              "       [0., 0., 0., ..., 0., 0., 0.],\n",
              "       [0., 0., 0., ..., 0., 0., 0.]])"
            ]
          },
          "execution_count": 10,
          "metadata": {},
          "output_type": "execute_result"
        }
      ],
      "source": [
        "# https://github.com/ssokeem/NewsletterBoard/blob/sojeong/2ndClustering/Modeling_and_Extract_Keyword.ipynb\n",
        "# https://velog.io/@ssokeem/data-news-project-final\n",
        "\n",
        "from sklearn.feature_extraction.text import TfidfVectorizer\n",
        "\n",
        "#1 tf-idf 임베딩\n",
        "tfidf_vectorizer = TfidfVectorizer(min_df = 3, ngram_range=(1,5))\n",
        "\n",
        "vector = tfidf_vectorizer.fit_transform(df['content']).toarray()\n",
        "\n",
        "vector = np.array(vector)\n",
        "     \n",
        "vector"
      ]
    },
    {
      "cell_type": "code",
      "execution_count": null,
      "metadata": {
        "colab": {
          "base_uri": "https://localhost:8080/"
        },
        "id": "4SQ0qIp11H09",
        "outputId": "6042ae19-ed94-47b4-a96f-21c31f17cb56"
      },
      "outputs": [
        {
          "data": {
            "text/plain": [
              "(30236, 44158)"
            ]
          },
          "execution_count": 11,
          "metadata": {},
          "output_type": "execute_result"
        }
      ],
      "source": [
        "vector.shape"
      ]
    },
    {
      "cell_type": "code",
      "execution_count": null,
      "metadata": {
        "colab": {
          "background_save": true
        },
        "id": "qmvstFvK0Ke1",
        "outputId": "277a4ec0-5c2c-4909-ef36-92a031a54b5c"
      },
      "outputs": [
        {
          "data": {
            "image/png": "[encoded data removed]",
            "text/plain": [
              "<Figure size 640x480 with 1 Axes>"
            ]
          },
          "metadata": {},
          "output_type": "display_data"
        }
      ],
      "source": [
        "\n",
        "\n",
        "#2 K-means clustering - Elbow method\n",
        "def visualize_elbowmethod(data, param_init='random', param_n_init=20, param_max_iter=300):\n",
        "    distortions = []\n",
        "    for i in range(1, 50):\n",
        "        km = KMeans(n_clusters=i, init=param_init, n_init=param_n_init, max_iter=param_max_iter, random_state=0)\n",
        "        km.fit(data)\n",
        "        distortions.append(km.inertia_)\n",
        "\n",
        "    plt.plot(range(1, 50), distortions, marker='o')\n",
        "    plt.xlabel('Number of Cluster')\n",
        "    plt.ylabel('Distortion')\n",
        "    plt.show()\n",
        "\n",
        "visualize_elbowmethod(vector)\n",
        "     \n"
      ]
    },
    {
      "cell_type": "code",
      "execution_count": null,
      "metadata": {
        "id": "atpJQrH4hrI6"
      },
      "outputs": [],
      "source": [
        "\n",
        "\n",
        "#3 K-means clustering - Silhouette Score\n",
        "def visualize_silhouette_layer(data, param_init='random', param_n_init=10, param_max_iter=300):\n",
        "    clusters_range = range(20,60)\n",
        "    results = []\n",
        "\n",
        "    for i in clusters_range:\n",
        "        clusterer = KMeans(n_clusters=i, init=param_init, n_init=param_n_init, max_iter=param_max_iter, random_state=0)\n",
        "        cluster_labels = clusterer.fit_predict(data)\n",
        "        silhouette_avg = silhouette_score(data, cluster_labels)\n",
        "        results.append([i, silhouette_avg])\n",
        "\n",
        "    result = pd.DataFrame(results, columns=[\"n_clusters\", \"silhouette_score\"])\n",
        "    pivot_km = pd.pivot_table(result, index=\"n_clusters\", values=\"silhouette_score\")\n",
        "\n",
        "    plt.figure()\n",
        "    sns.heatmap(pivot_km, annot=True, linewidths=.5, fmt='.3f', cmap=sns.cm._rocket_lut)\n",
        "    plt.tight_layout()\n",
        "    plt.show()\n",
        "\n",
        "visualize_silhouette_layer(vector) # 가장 높은 실루엣 계수와 매핑되는 k\n",
        "     \n"
      ]
    },
    {
      "cell_type": "code",
      "execution_count": null,
      "metadata": {
        "id": "Jksaa-EnhrSd"
      },
      "outputs": [],
      "source": [
        "# # K-Means Clustering\n",
        "\n",
        "# from sklearn.cluster import KMeans\n",
        "\n",
        "# kmeans = KMeans(n_clusters=25).fit(vector)\n",
        "# print(kmeans.labels_)"
      ]
    },
    {
      "cell_type": "code",
      "execution_count": null,
      "metadata": {
        "colab": {
          "base_uri": "https://localhost:8080/",
          "height": 478
        },
        "id": "dIZjBa6HhfhV",
        "outputId": "4d7c0f54-254c-49cd-f451-b36fd0e698c3"
      },
      "outputs": [
        {
          "name": "stdout",
          "output_type": "stream",
          "text": [
            "[0, 1, 2, 3, 4, 5, 6, 7, 8, 9, 10, 11, 12, 13, 14, 15, 16, 17, 18, 19, 20, 21, 22, 23, 24, 25, 26, 27, 28, 29, 30, 31, 32, 33, 34, 35, 36, 37, 38, 39, 40, 41, 42, 43, 44, 45, 46, 47, 48, 49, 50, 51, 52, 53, 54, 55, 56, 57, 58, 59, 60, 61, 62, 63, 64, 65, 66, 67, 68, 69, 70, 71, 72, 73, 74, 75, 76, 77, 78, 79, 80, 81, 82, 83, 84, 85, 86, 87, 88, 89, 90, 91, 22255]\n",
            "군집개수 : 1729\n"
          ]
        },
        {
          "data": {
            "text/html": [
              "\n",
              "  <div id=\"df-c9577fbd-872e-4571-8fed-899fe20ee9b8\">\n",
              "    <div class=\"colab-df-container\">\n",
              "      <div>\n",
              "<style scoped>\n",
              "    .dataframe tbody tr th:only-of-type {\n",
              "        vertical-align: middle;\n",
              "    }\n",
              "\n",
              "    .dataframe tbody tr th {\n",
              "        vertical-align: top;\n",
              "    }\n",
              "\n",
              "    .dataframe thead th {\n",
              "        text-align: right;\n",
              "    }\n",
              "</style>\n",
              "<table border=\"1\" class=\"dataframe\">\n",
              "  <thead>\n",
              "    <tr style=\"text-align: right;\">\n",
              "      <th></th>\n",
              "      <th>content</th>\n",
              "      <th>cluster</th>\n",
              "    </tr>\n",
              "  </thead>\n",
              "  <tbody>\n",
              "    <tr>\n",
              "      <th>0</th>\n",
              "      <td>['태양광', '충전', '되는', '아이폰', '테슬라']</td>\n",
              "      <td>0</td>\n",
              "    </tr>\n",
              "    <tr>\n",
              "      <th>1</th>\n",
              "      <td>['지디', '코리아', '이정현', '기자', '도널드', '트럼프', '미국',...</td>\n",
              "      <td>-1</td>\n",
              "    </tr>\n",
              "    <tr>\n",
              "      <th>2</th>\n",
              "      <td>['업체', '주로', '아이폰', '애플', '워치', '제품', '장식', '개...</td>\n",
              "      <td>-1</td>\n",
              "    </tr>\n",
              "    <tr>\n",
              "      <th>3</th>\n",
              "      <td>['아이폰', '이름', '아이폰', '테슬라']</td>\n",
              "      <td>0</td>\n",
              "    </tr>\n",
              "    <tr>\n",
              "      <th>4</th>\n",
              "      <td>['제품', '태양', '전지', '패널', '있어', '스마트폰', '뒤집어', ...</td>\n",
              "      <td>-1</td>\n",
              "    </tr>\n",
              "    <tr>\n",
              "      <th>...</th>\n",
              "      <td>...</td>\n",
              "      <td>...</td>\n",
              "    </tr>\n",
              "    <tr>\n",
              "      <th>30231</th>\n",
              "      <td>['비해']</td>\n",
              "      <td>2</td>\n",
              "    </tr>\n",
              "    <tr>\n",
              "      <th>30232</th>\n",
              "      <td>['지난', '대진', '침대', '매트리스', '연간', '피폭', '선량']</td>\n",
              "      <td>1727</td>\n",
              "    </tr>\n",
              "    <tr>\n",
              "      <th>30233</th>\n",
              "      <td>['지속', '가능한', '패션', '오랫동안', '지적']</td>\n",
              "      <td>1728</td>\n",
              "    </tr>\n",
              "    <tr>\n",
              "      <th>30234</th>\n",
              "      <td>['넘게', '클과', '만난', '적도', '없는', '알려졌다']</td>\n",
              "      <td>1672</td>\n",
              "    </tr>\n",
              "    <tr>\n",
              "      <th>30235</th>\n",
              "      <td>['부남', '강원랜드', '채용', '비리', '수사', '단장', '연합뉴스',...</td>\n",
              "      <td>1729</td>\n",
              "    </tr>\n",
              "  </tbody>\n",
              "</table>\n",
              "<p>30236 rows × 2 columns</p>\n",
              "</div>\n",
              "      <button class=\"colab-df-convert\" onclick=\"convertToInteractive('df-c9577fbd-872e-4571-8fed-899fe20ee9b8')\"\n",
              "              title=\"Convert this dataframe to an interactive table.\"\n",
              "              style=\"display:none;\">\n",
              "        \n",
              "  <svg xmlns=\"http://www.w3.org/2000/svg\" height=\"24px\"viewBox=\"0 0 24 24\"\n",
              "       width=\"24px\">\n",
              "    <path d=\"M0 0h24v24H0V0z\" fill=\"none\"/>\n",
              "    <path d=\"M18.56 5.44l.94 2.06.94-2.06 2.06-.94-2.06-.94-.94-2.06-.94 2.06-2.06.94zm-11 1L8.5 8.5l.94-2.06 2.06-.94-2.06-.94L8.5 2.5l-.94 2.06-2.06.94zm10 10l.94 2.06.94-2.06 2.06-.94-2.06-.94-.94-2.06-.94 2.06-2.06.94z\"/><path d=\"M17.41 7.96l-1.37-1.37c-.4-.4-.92-.59-1.43-.59-.52 0-1.04.2-1.43.59L10.3 9.45l-7.72 7.72c-.78.78-.78 2.05 0 2.83L4 21.41c.39.39.9.59 1.41.59.51 0 1.02-.2 1.41-.59l7.78-7.78 2.81-2.81c.8-.78.8-2.07 0-2.86zM5.41 20L4 18.59l7.72-7.72 1.47 1.35L5.41 20z\"/>\n",
              "  </svg>\n",
              "      </button>\n",
              "      \n",
              "  <style>\n",
              "    .colab-df-container {\n",
              "      display:flex;\n",
              "      flex-wrap:wrap;\n",
              "      gap: 12px;\n",
              "    }\n",
              "\n",
              "    .colab-df-convert {\n",
              "      background-color: #E8F0FE;\n",
              "      border: none;\n",
              "      border-radius: 50%;\n",
              "      cursor: pointer;\n",
              "      display: none;\n",
              "      fill: #1967D2;\n",
              "      height: 32px;\n",
              "      padding: 0 0 0 0;\n",
              "      width: 32px;\n",
              "    }\n",
              "\n",
              "    .colab-df-convert:hover {\n",
              "      background-color: #E2EBFA;\n",
              "      box-shadow: 0px 1px 2px rgba(60, 64, 67, 0.3), 0px 1px 3px 1px rgba(60, 64, 67, 0.15);\n",
              "      fill: #174EA6;\n",
              "    }\n",
              "\n",
              "    [theme=dark] .colab-df-convert {\n",
              "      background-color: #3B4455;\n",
              "      fill: #D2E3FC;\n",
              "    }\n",
              "\n",
              "    [theme=dark] .colab-df-convert:hover {\n",
              "      background-color: #434B5C;\n",
              "      box-shadow: 0px 1px 3px 1px rgba(0, 0, 0, 0.15);\n",
              "      filter: drop-shadow(0px 1px 2px rgba(0, 0, 0, 0.3));\n",
              "      fill: #FFFFFF;\n",
              "    }\n",
              "  </style>\n",
              "\n",
              "      <script>\n",
              "        const buttonEl =\n",
              "          document.querySelector('#df-c9577fbd-872e-4571-8fed-899fe20ee9b8 button.colab-df-convert');\n",
              "        buttonEl.style.display =\n",
              "          google.colab.kernel.accessAllowed ? 'block' : 'none';\n",
              "\n",
              "        async function convertToInteractive(key) {\n",
              "          const element = document.querySelector('#df-c9577fbd-872e-4571-8fed-899fe20ee9b8');\n",
              "          const dataTable =\n",
              "            await google.colab.kernel.invokeFunction('convertToInteractive',\n",
              "                                                     [key], {});\n",
              "          if (!dataTable) return;\n",
              "\n",
              "          const docLinkHtml = 'Like what you see? Visit the ' +\n",
              "            '<a target=\"_blank\" href=https://colab.research.google.com/notebooks/data_table.ipynb>data table notebook</a>'\n",
              "            + ' to learn more about interactive tables.';\n",
              "          element.innerHTML = '';\n",
              "          dataTable['output_type'] = 'display_data';\n",
              "          await google.colab.output.renderOutput(dataTable, element);\n",
              "          const docLink = document.createElement('div');\n",
              "          docLink.innerHTML = docLinkHtml;\n",
              "          element.appendChild(docLink);\n",
              "        }\n",
              "      </script>\n",
              "    </div>\n",
              "  </div>\n",
              "  "
            ],
            "text/plain": [
              "                                                 content  cluster\n",
              "0                      ['태양광', '충전', '되는', '아이폰', '테슬라']        0\n",
              "1      ['지디', '코리아', '이정현', '기자', '도널드', '트럼프', '미국',...       -1\n",
              "2      ['업체', '주로', '아이폰', '애플', '워치', '제품', '장식', '개...       -1\n",
              "3                            ['아이폰', '이름', '아이폰', '테슬라']        0\n",
              "4      ['제품', '태양', '전지', '패널', '있어', '스마트폰', '뒤집어', ...       -1\n",
              "...                                                  ...      ...\n",
              "30231                                             ['비해']        2\n",
              "30232       ['지난', '대진', '침대', '매트리스', '연간', '피폭', '선량']     1727\n",
              "30233                  ['지속', '가능한', '패션', '오랫동안', '지적']     1728\n",
              "30234             ['넘게', '클과', '만난', '적도', '없는', '알려졌다']     1672\n",
              "30235  ['부남', '강원랜드', '채용', '비리', '수사', '단장', '연합뉴스',...     1729\n",
              "\n",
              "[30236 rows x 2 columns]"
            ]
          },
          "execution_count": 15,
          "metadata": {},
          "output_type": "execute_result"
        }
      ],
      "source": [
        "#2 DBSCAN Clustering\n",
        "\n",
        "from sklearn.cluster import DBSCAN\n",
        "\n",
        "model = DBSCAN(eps=0.5, min_samples=3, metric = \"cosine\") \n",
        "#     거리 계산 식으로는 Cosine distance를 이용\n",
        "#     eps이 낮을수록, min_samples 값이 높을수록 군집으로 판단하는 기준이 까다로움.\n",
        "result = model.fit_predict(vector)\n",
        "df['cluster'] = result\n",
        "\n",
        "cnt = [i for i  in range(93)]\n",
        "\n",
        "for i in result:\n",
        "  if i == -1:\n",
        "    cnt[i] += 1\n",
        "print(cnt)\n",
        "\n",
        "print('군집개수 :', result.max())\n",
        "df"
      ]
    },
    {
      "cell_type": "code",
      "execution_count": null,
      "metadata": {
        "id": "GJjy1JHxhpK_"
      },
      "outputs": [],
      "source": [
        "\n",
        "#3 대표 기사 추출\n",
        "\n",
        "def print_cluster_result(train):\n",
        "    clusters = []\n",
        "    counts = []\n",
        "    top_title = []\n",
        "    top_noun = []\n",
        "    for cluster_num in set(result):\n",
        "        # -1,0은 노이즈 판별이 났거나 클러스터링이 안된 경우\n",
        "        # if(cluster_num == -1 or cluster_num == 0): \n",
        "        #     continue\n",
        "        # else:\n",
        "            print(\"cluster num : {}\".format(cluster_num))\n",
        "            temp_df = train[train['cluster1st'] == cluster_num] # cluster num 별로 조회\n",
        "            clusters.append(cluster_num)\n",
        "            counts.append(len(temp_df))\n",
        "            top_title.append(temp_df.reset_index()['Title'][0])\n",
        "            top_noun.append(temp_df.reset_index()['noun'][0]) # 군집별 첫번째 기사를 대표기사로 ; tfidf방식\n",
        "            for title in temp_df['Title']:\n",
        "                print(title) # 제목으로 살펴보자\n",
        "            print()\n",
        "\n",
        "    cluster_result = pd.DataFrame({'cluster_num':clusters, 'count':counts, 'top_title':top_title, 'top_noun':top_noun})\n",
        "    return cluster_result"
      ]
    },
    {
      "cell_type": "code",
      "execution_count": null,
      "metadata": {
        "id": "U9hvoyW9hrVL"
      },
      "outputs": [],
      "source": [
        "df['cluster'] = kmeans.labels_"
      ]
    },
    {
      "cell_type": "code",
      "execution_count": null,
      "metadata": {
        "id": "i4sq8UblhrXQ"
      },
      "outputs": [],
      "source": [
        "df"
      ]
    },
    {
      "cell_type": "code",
      "execution_count": null,
      "metadata": {
        "id": "QIeIT3Pihrb0"
      },
      "outputs": [],
      "source": [
        "\n",
        "\n",
        "for cluster_num in set(df['cluster']):\n",
        "  temp_df = df[df['cluster'] == cluster_num]\n",
        "  print(\"cluster num : {} Number of news : {}\".format(cluster_num, len(temp_df)))\n",
        "  for title in temp_df['0']:\n",
        "    print(title)\n",
        "  print()\n",
        "     \n"
      ]
    },
    {
      "cell_type": "code",
      "execution_count": null,
      "metadata": {
        "id": "PdAWpDolu8h_"
      },
      "outputs": [],
      "source": [
        "for cluster_num in set(df['cluster']):\n",
        "  temp_df = df*df['cluster'] == cluster_num\n",
        "  print(\"cluster num : {} Number of news : {}\".format(cluster_num, len(temp_df)))"
      ]
    },
    {
      "cell_type": "code",
      "execution_count": null,
      "metadata": {
        "id": "pBLz2WBpu8kX"
      },
      "outputs": [],
      "source": [
        "\n",
        "\n",
        "keyword = []\n",
        "for word_list in df['0']:\n",
        "  words = []\n",
        "  for word in word_list.split(' '):\n",
        "    words.append(word)\n",
        "  key = Counter(words).most_common(1)\n",
        "  keyword.append(key)\n",
        "\n",
        "keyword\n",
        "     \n"
      ]
    },
    {
      "cell_type": "code",
      "execution_count": null,
      "metadata": {
        "id": "95OIWWCyyTZB"
      },
      "outputs": [],
      "source": [
        "# 키워드 추출할 대상 문서만 new_doc에 넣어서 해야함 - 이것도 클러스터 개수만큼 loop 돌려서?\n",
        "\n",
        "new_vector = tfidf_vectorizer.transform(new_doc).toarray()\n",
        "\n",
        "ture_names = tfidf_vectorizer.get_feature_names() # 단어 목록\n",
        "sorted_idx = new_vector.argsort()[:, ::-1] # TF-IDF 내림차순 정렬\n",
        "\n",
        "for i in range(5): # 상위 5개 단어 추출\n",
        "    print(feature_names[sorted_idx[0, i]])\n"
      ]
    },
    {
      "cell_type": "code",
      "execution_count": null,
      "metadata": {
        "id": "Tc3e7Qxdu8m7"
      },
      "outputs": [],
      "source": []
    },
    {
      "cell_type": "code",
      "execution_count": null,
      "metadata": {
        "id": "ATKozpIyu8ov"
      },
      "outputs": [],
      "source": []
    },
    {
      "cell_type": "code",
      "execution_count": null,
      "metadata": {
        "id": "ROvK-WLSu8qk"
      },
      "outputs": [],
      "source": []
    },
    {
      "cell_type": "code",
      "execution_count": null,
      "metadata": {
        "id": "2melIGtau8sp"
      },
      "outputs": [],
      "source": []
    },
    {
      "cell_type": "code",
      "execution_count": null,
      "metadata": {
        "id": "c0mGZjd5hpNH"
      },
      "outputs": [],
      "source": []
    },
    {
      "cell_type": "code",
      "execution_count": null,
      "metadata": {
        "id": "FP4cw6PXhpPh"
      },
      "outputs": [],
      "source": []
    }
  ],
  "metadata": {
    "colab": {
      "machine_shape": "hm",
      "provenance": []
    },
    "gpuClass": "standard",
    "kernelspec": {
      "display_name": "Python 3",
      "name": "python3"
    },
    "language_info": {
      "name": "python"
    }
  },
  "nbformat": 4,
  "nbformat_minor": 0
}